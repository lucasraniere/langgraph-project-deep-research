{
 "cells": [
  {
   "cell_type": "markdown",
   "id": "c8380704",
   "metadata": {},
   "source": [
    "### **Research Agent**\n",
    "\n",
    "*The goal of research is to gather the context requested by the research brief.*\n",
    "\n",
    "Research is an open-ended task. The best strategy to answer a user request can't be easily known in advance.\n",
    "\n",
    "Requests can require different research strategies and varying levels of serach depth. Consider this request:\n",
    "\n",
    ">*\"Compare these two products\"*\n",
    "\n",
    "Comparisons typically benefit from search on each product, followed by a sysnthesis step to compare them. Now, consider this one:\n",
    "\n",
    ">*\"Give me the top candidates for my job posting\"*\n",
    "\n",
    "Listing and ranking requests typically require open-ended search, followed by a synthesys and ranking."
   ]
  },
  {
   "cell_type": "markdown",
   "id": "0fb1a3b4",
   "metadata": {},
   "source": []
  }
 ],
 "metadata": {
  "language_info": {
   "name": "python"
  }
 },
 "nbformat": 4,
 "nbformat_minor": 5
}
